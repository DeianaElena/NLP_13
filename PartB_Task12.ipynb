{
 "cells": [
  {
   "cell_type": "code",
   "execution_count": 1,
   "id": "9716287b",
   "metadata": {},
   "outputs": [],
   "source": [
    "# Original code outputs: accuracy & loss.\n",
    "# Calculate: precision, recall & F1 for each."
   ]
  },
  {
   "cell_type": "code",
   "execution_count": 2,
   "id": "651ff787",
   "metadata": {},
   "outputs": [],
   "source": [
    "import numpy as np"
   ]
  },
  {
   "cell_type": "code",
   "execution_count": 3,
   "id": "8165fc5e",
   "metadata": {},
   "outputs": [],
   "source": [
    "def output(model_output):\n",
    "    o = np.zeros([2,2])\n",
    "    true_labels = []\n",
    "    \n",
    "    for sentence in model_output:\n",
    "        tokens = sentence.split(\"\\t\")\n",
    "        tokens = [t.replace('\\n','') for t in tokens]\n",
    "\n",
    "        if len(tokens)>1:\n",
    "            true_labels.append(tokens[1])\n",
    "            \n",
    "        if tokens[1] == tokens[2] ==\"N\":\n",
    "                    o[0,0] +=1\n",
    "        elif tokens[1] == \"N\":\n",
    "                    o[0,1] +=1\n",
    "        elif tokens[1] == tokens[2] == \"C\":\n",
    "                    o[1,1] +=1\n",
    "        else:\n",
    "                o[1,0] +=1\n",
    "    return o, true_labels"
   ]
  },
  {
   "cell_type": "code",
   "execution_count": 4,
   "id": "cbb554f6",
   "metadata": {},
   "outputs": [],
   "source": [
    "def statistics(o):\n",
    "    precision_n = o[0,0] / sum(o[:,0])\n",
    "    recall_n = o[0,0] / sum(o[0,:])\n",
    "    f1_n = 2*precision_n*recall_n / (precision_n+recall_n)\n",
    "\n",
    "    precision_c = o[1,1] / sum(o[:,1])\n",
    "    recall_c = o[1,1] / sum(o[1,:])\n",
    "    f1_c = 2*precision_c*recall_c / (precision_c+recall_c)\n",
    "\n",
    "    return precision_n, recall_n, f1_n, precision_c, recall_c, f1_c"
   ]
  },
  {
   "cell_type": "code",
   "execution_count": 5,
   "id": "2ecfe13c",
   "metadata": {},
   "outputs": [],
   "source": [
    "def weight_avg(f1_n, f1_c, testlabels):\n",
    "    labels = []\n",
    "    for sentence in testlabels:\n",
    "        test_tokens = sentence.split(\" \")\n",
    "        for token in test_tokens:\n",
    "            token = token.replace('\\n', '')\n",
    "            labels.append(token)\n",
    "\n",
    "    weight_avg = (f1_n*labels.count(\"N\") + f1_c*labels.count(\"C\")) / len(labels)\n",
    "\n",
    "    return weight_avg"
   ]
  },
  {
   "cell_type": "code",
   "execution_count": 8,
   "id": "e9ca8c70",
   "metadata": {},
   "outputs": [
    {
     "ename": "NameError",
     "evalue": "name 'model_output' is not defined",
     "output_type": "error",
     "traceback": [
      "\u001b[0;31m---------------------------------------------------------------------------\u001b[0m",
      "\u001b[0;31mNameError\u001b[0m                                 Traceback (most recent call last)",
      "\u001b[0;32m<ipython-input-8-eeeb722c6c74>\u001b[0m in \u001b[0;36m<module>\u001b[0;34m\u001b[0m\n\u001b[0;32m----> 1\u001b[0;31m \u001b[0mo\u001b[0m\u001b[0;34m,\u001b[0m \u001b[0mtrue_labels\u001b[0m \u001b[0;34m=\u001b[0m \u001b[0moutput\u001b[0m\u001b[0;34m(\u001b[0m\u001b[0mmodel_output\u001b[0m\u001b[0;34m)\u001b[0m\u001b[0;34m\u001b[0m\u001b[0;34m\u001b[0m\u001b[0m\n\u001b[0m\u001b[1;32m      2\u001b[0m \u001b[0;34m\u001b[0m\u001b[0m\n\u001b[1;32m      3\u001b[0m \u001b[0mprint\u001b[0m\u001b[0;34m(\u001b[0m\u001b[0;34m\"LSTM model class N (precision, recall, f1): \"\u001b[0m\u001b[0;34m,\u001b[0m \u001b[0mstatistics\u001b[0m\u001b[0;34m(\u001b[0m\u001b[0mo\u001b[0m\u001b[0;34m)\u001b[0m\u001b[0;34m[\u001b[0m\u001b[0;36m0\u001b[0m\u001b[0;34m:\u001b[0m\u001b[0;36m3\u001b[0m\u001b[0;34m]\u001b[0m\u001b[0;34m)\u001b[0m\u001b[0;34m\u001b[0m\u001b[0;34m\u001b[0m\u001b[0m\n\u001b[1;32m      4\u001b[0m \u001b[0mprint\u001b[0m\u001b[0;34m(\u001b[0m\u001b[0;34m\"LSTM model class C (precision, recall, f1): \"\u001b[0m\u001b[0;34m,\u001b[0m \u001b[0mstatistics\u001b[0m\u001b[0;34m(\u001b[0m\u001b[0mo\u001b[0m\u001b[0;34m)\u001b[0m\u001b[0;34m[\u001b[0m\u001b[0;36m3\u001b[0m\u001b[0;34m:\u001b[0m\u001b[0;36m6\u001b[0m\u001b[0;34m]\u001b[0m\u001b[0;34m)\u001b[0m\u001b[0;34m\u001b[0m\u001b[0;34m\u001b[0m\u001b[0m\n\u001b[1;32m      5\u001b[0m \u001b[0mprint\u001b[0m\u001b[0;34m(\u001b[0m\u001b[0;34m\"LSTM model weighted average: \"\u001b[0m\u001b[0;34m,\u001b[0m \u001b[0mweighted_average\u001b[0m\u001b[0;34m(\u001b[0m\u001b[0mstatistics\u001b[0m\u001b[0;34m(\u001b[0m\u001b[0mo\u001b[0m\u001b[0;34m)\u001b[0m\u001b[0;34m[\u001b[0m\u001b[0;36m2\u001b[0m\u001b[0;34m]\u001b[0m\u001b[0;34m,\u001b[0m \u001b[0mstatistics\u001b[0m\u001b[0;34m(\u001b[0m\u001b[0mo\u001b[0m\u001b[0;34m)\u001b[0m\u001b[0;34m[\u001b[0m\u001b[0;36m5\u001b[0m\u001b[0;34m]\u001b[0m\u001b[0;34m,\u001b[0m \u001b[0mtrue_labels\u001b[0m\u001b[0;34m)\u001b[0m\u001b[0;34m)\u001b[0m\u001b[0;34m\u001b[0m\u001b[0;34m\u001b[0m\u001b[0m\n",
      "\u001b[0;31mNameError\u001b[0m: name 'model_output' is not defined"
     ]
    }
   ],
   "source": [
    "o, true_labels = output(model_output)\n",
    "\n",
    "print(\"LSTM model class N (precision, recall, f1): \", statistics(o)[0:3])\n",
    "print(\"LSTM model class C (precision, recall, f1): \", statistics(o)[3:6])\n",
    "print(\"LSTM model weighted average: \", weighted_average(statistics(o)[2], statistics(o)[5], true_labels))"
   ]
  },
  {
   "cell_type": "code",
   "execution_count": null,
   "id": "6a7969a6",
   "metadata": {},
   "outputs": [],
   "source": []
  },
  {
   "cell_type": "code",
   "execution_count": null,
   "id": "49f762a0",
   "metadata": {},
   "outputs": [],
   "source": []
  },
  {
   "cell_type": "code",
   "execution_count": null,
   "id": "45fec376",
   "metadata": {},
   "outputs": [],
   "source": []
  }
 ],
 "metadata": {
  "kernelspec": {
   "display_name": "Python 3",
   "language": "python",
   "name": "python3"
  },
  "language_info": {
   "codemirror_mode": {
    "name": "ipython",
    "version": 3
   },
   "file_extension": ".py",
   "mimetype": "text/x-python",
   "name": "python",
   "nbconvert_exporter": "python",
   "pygments_lexer": "ipython3",
   "version": "3.8.8"
  }
 },
 "nbformat": 4,
 "nbformat_minor": 5
}
