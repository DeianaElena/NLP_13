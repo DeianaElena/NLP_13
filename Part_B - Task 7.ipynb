{
 "cells": [
  {
   "cell_type": "code",
   "execution_count": 1,
   "metadata": {},
   "outputs": [
    {
     "name": "stdout",
     "output_type": "stream",
     "text": [
      "Requirement already satisfied: en_core_web_sm in /Users/mgh/opt/anaconda3/lib/python3.8/site-packages (3.2.0)\n",
      "Requirement already satisfied: spacy<3.3.0,>=3.2.0 in /Users/mgh/opt/anaconda3/lib/python3.8/site-packages (from en_core_web_sm) (3.2.4)\n",
      "Requirement already satisfied: jinja2 in /Users/mgh/opt/anaconda3/lib/python3.8/site-packages (from spacy<3.3.0,>=3.2.0->en_core_web_sm) (2.11.3)\n",
      "Requirement already satisfied: wasabi<1.1.0,>=0.8.1 in /Users/mgh/opt/anaconda3/lib/python3.8/site-packages (from spacy<3.3.0,>=3.2.0->en_core_web_sm) (0.9.1)\n",
      "Requirement already satisfied: requests<3.0.0,>=2.13.0 in /Users/mgh/opt/anaconda3/lib/python3.8/site-packages (from spacy<3.3.0,>=3.2.0->en_core_web_sm) (2.25.1)\n",
      "Requirement already satisfied: thinc<8.1.0,>=8.0.12 in /Users/mgh/opt/anaconda3/lib/python3.8/site-packages (from spacy<3.3.0,>=3.2.0->en_core_web_sm) (8.0.15)\n",
      "Requirement already satisfied: tqdm<5.0.0,>=4.38.0 in /Users/mgh/opt/anaconda3/lib/python3.8/site-packages (from spacy<3.3.0,>=3.2.0->en_core_web_sm) (4.59.0)\n",
      "Requirement already satisfied: typer<0.5.0,>=0.3.0 in /Users/mgh/opt/anaconda3/lib/python3.8/site-packages (from spacy<3.3.0,>=3.2.0->en_core_web_sm) (0.4.1)\n",
      "Requirement already satisfied: cymem<2.1.0,>=2.0.2 in /Users/mgh/opt/anaconda3/lib/python3.8/site-packages (from spacy<3.3.0,>=3.2.0->en_core_web_sm) (2.0.6)\n",
      "Requirement already satisfied: catalogue<2.1.0,>=2.0.6 in /Users/mgh/opt/anaconda3/lib/python3.8/site-packages (from spacy<3.3.0,>=3.2.0->en_core_web_sm) (2.0.7)\n",
      "Requirement already satisfied: pydantic!=1.8,!=1.8.1,<1.9.0,>=1.7.4 in /Users/mgh/opt/anaconda3/lib/python3.8/site-packages (from spacy<3.3.0,>=3.2.0->en_core_web_sm) (1.8.2)\n",
      "Requirement already satisfied: setuptools in /Users/mgh/opt/anaconda3/lib/python3.8/site-packages (from spacy<3.3.0,>=3.2.0->en_core_web_sm) (52.0.0.post20210125)\n",
      "Requirement already satisfied: blis<0.8.0,>=0.4.0 in /Users/mgh/opt/anaconda3/lib/python3.8/site-packages (from spacy<3.3.0,>=3.2.0->en_core_web_sm) (0.7.7)\n",
      "Requirement already satisfied: packaging>=20.0 in /Users/mgh/opt/anaconda3/lib/python3.8/site-packages (from spacy<3.3.0,>=3.2.0->en_core_web_sm) (20.9)\n",
      "Requirement already satisfied: spacy-loggers<2.0.0,>=1.0.0 in /Users/mgh/opt/anaconda3/lib/python3.8/site-packages (from spacy<3.3.0,>=3.2.0->en_core_web_sm) (1.0.2)\n",
      "Requirement already satisfied: murmurhash<1.1.0,>=0.28.0 in /Users/mgh/opt/anaconda3/lib/python3.8/site-packages (from spacy<3.3.0,>=3.2.0->en_core_web_sm) (1.0.6)\n",
      "Requirement already satisfied: spacy-legacy<3.1.0,>=3.0.8 in /Users/mgh/opt/anaconda3/lib/python3.8/site-packages (from spacy<3.3.0,>=3.2.0->en_core_web_sm) (3.0.9)\n",
      "Requirement already satisfied: langcodes<4.0.0,>=3.2.0 in /Users/mgh/opt/anaconda3/lib/python3.8/site-packages (from spacy<3.3.0,>=3.2.0->en_core_web_sm) (3.3.0)\n",
      "Requirement already satisfied: click<8.1.0 in /Users/mgh/opt/anaconda3/lib/python3.8/site-packages (from spacy<3.3.0,>=3.2.0->en_core_web_sm) (7.1.2)\n",
      "Requirement already satisfied: pathy>=0.3.5 in /Users/mgh/opt/anaconda3/lib/python3.8/site-packages (from spacy<3.3.0,>=3.2.0->en_core_web_sm) (0.6.1)\n",
      "Requirement already satisfied: preshed<3.1.0,>=3.0.2 in /Users/mgh/opt/anaconda3/lib/python3.8/site-packages (from spacy<3.3.0,>=3.2.0->en_core_web_sm) (3.0.6)\n",
      "Requirement already satisfied: srsly<3.0.0,>=2.4.1 in /Users/mgh/opt/anaconda3/lib/python3.8/site-packages (from spacy<3.3.0,>=3.2.0->en_core_web_sm) (2.4.3)\n",
      "Requirement already satisfied: numpy>=1.15.0 in /Users/mgh/opt/anaconda3/lib/python3.8/site-packages (from spacy<3.3.0,>=3.2.0->en_core_web_sm) (1.18.2)\n",
      "Requirement already satisfied: pyparsing>=2.0.2 in /Users/mgh/opt/anaconda3/lib/python3.8/site-packages (from packaging>=20.0->spacy<3.3.0,>=3.2.0->en_core_web_sm) (2.4.7)\n",
      "Requirement already satisfied: smart-open<6.0.0,>=5.0.0 in /Users/mgh/opt/anaconda3/lib/python3.8/site-packages (from pathy>=0.3.5->spacy<3.3.0,>=3.2.0->en_core_web_sm) (5.1.0)\n",
      "Requirement already satisfied: typing-extensions>=3.7.4.3 in /Users/mgh/opt/anaconda3/lib/python3.8/site-packages (from pydantic!=1.8,!=1.8.1,<1.9.0,>=1.7.4->spacy<3.3.0,>=3.2.0->en_core_web_sm) (3.7.4.3)\n",
      "Requirement already satisfied: urllib3<1.27,>=1.21.1 in /Users/mgh/opt/anaconda3/lib/python3.8/site-packages (from requests<3.0.0,>=2.13.0->spacy<3.3.0,>=3.2.0->en_core_web_sm) (1.26.4)\n",
      "Requirement already satisfied: certifi>=2017.4.17 in /Users/mgh/opt/anaconda3/lib/python3.8/site-packages (from requests<3.0.0,>=2.13.0->spacy<3.3.0,>=3.2.0->en_core_web_sm) (2020.12.5)\n",
      "Requirement already satisfied: idna<3,>=2.5 in /Users/mgh/opt/anaconda3/lib/python3.8/site-packages (from requests<3.0.0,>=2.13.0->spacy<3.3.0,>=3.2.0->en_core_web_sm) (2.10)\n",
      "Requirement already satisfied: chardet<5,>=3.0.2 in /Users/mgh/opt/anaconda3/lib/python3.8/site-packages (from requests<3.0.0,>=2.13.0->spacy<3.3.0,>=3.2.0->en_core_web_sm) (4.0.0)\n",
      "Requirement already satisfied: MarkupSafe>=0.23 in /Users/mgh/opt/anaconda3/lib/python3.8/site-packages (from jinja2->spacy<3.3.0,>=3.2.0->en_core_web_sm) (1.1.1)\n",
      "Note: you may need to restart the kernel to use updated packages.\n"
     ]
    }
   ],
   "source": [
    "pip install en_core_web_sm"
   ]
  },
  {
   "cell_type": "code",
   "execution_count": 2,
   "metadata": {},
   "outputs": [],
   "source": [
    "import en_core_web_sm"
   ]
  },
  {
   "cell_type": "code",
   "execution_count": 3,
   "metadata": {},
   "outputs": [],
   "source": [
    "import spacy"
   ]
  },
  {
   "cell_type": "code",
   "execution_count": 4,
   "metadata": {
    "pycharm": {
     "name": "#%%\n"
    }
   },
   "outputs": [],
   "source": [
    "from nltk.tokenize import TweetTokenizer\n",
    "from sklearn.feature_extraction.text import TfidfVectorizer\n",
    "from sklearn.model_selection import cross_val_score, cross_val_predict\n",
    "from sklearn.linear_model import LogisticRegression\n",
    "from sklearn.svm import LinearSVC\n",
    "from sklearn.datasets import dump_svmlight_file\n",
    "from sklearn import metrics\n",
    "import numpy as np\n",
    "import pandas as pd\n",
    "import logging\n",
    "import codecs\n",
    "import spacy\n",
    "from spacy.lang.en import English"
   ]
  },
  {
   "cell_type": "code",
   "execution_count": 79,
   "metadata": {
    "pycharm": {
     "name": "#%%\n"
    }
   },
   "outputs": [],
   "source": [
    "nlp = spacy.load('en_core_web_sm')"
   ]
  },
  {
   "cell_type": "code",
   "execution_count": 120,
   "metadata": {
    "pycharm": {
     "name": "#%%\n"
    }
   },
   "outputs": [],
   "source": [
    "df = pd.read_csv('WikiNews_Train.tsv', sep = '\\t', names=['1','2','3','4','5','6','7','8','9','10','11'])"
   ]
  },
  {
   "cell_type": "code",
   "execution_count": 121,
   "metadata": {},
   "outputs": [
    {
     "data": {
      "text/html": [
       "<div>\n",
       "<style scoped>\n",
       "    .dataframe tbody tr th:only-of-type {\n",
       "        vertical-align: middle;\n",
       "    }\n",
       "\n",
       "    .dataframe tbody tr th {\n",
       "        vertical-align: top;\n",
       "    }\n",
       "\n",
       "    .dataframe thead th {\n",
       "        text-align: right;\n",
       "    }\n",
       "</style>\n",
       "<table border=\"1\" class=\"dataframe\">\n",
       "  <thead>\n",
       "    <tr style=\"text-align: right;\">\n",
       "      <th></th>\n",
       "      <th>1</th>\n",
       "      <th>2</th>\n",
       "      <th>3</th>\n",
       "      <th>4</th>\n",
       "      <th>5</th>\n",
       "      <th>6</th>\n",
       "      <th>7</th>\n",
       "      <th>8</th>\n",
       "      <th>9</th>\n",
       "      <th>10</th>\n",
       "      <th>11</th>\n",
       "    </tr>\n",
       "  </thead>\n",
       "  <tbody>\n",
       "    <tr>\n",
       "      <th>0</th>\n",
       "      <td>3QREJ3J433YH30CYS49AQ6MZ3G0LKZ</td>\n",
       "      <td>#37-1 Guatemalan Supreme Court approves impeachment of President Molina Yesterday in Guatemala, the Supreme Court approved the attorney general's request to impeach President Otto Pérez Molina.</td>\n",
       "      <td>6</td>\n",
       "      <td>16</td>\n",
       "      <td>Guatemalan</td>\n",
       "      <td>10</td>\n",
       "      <td>10</td>\n",
       "      <td>1</td>\n",
       "      <td>0</td>\n",
       "      <td>1</td>\n",
       "      <td>0.05</td>\n",
       "    </tr>\n",
       "    <tr>\n",
       "      <th>1</th>\n",
       "      <td>3QREJ3J433YH30CYS49AQ6MZ3G0LKZ</td>\n",
       "      <td>#37-1 Guatemalan Supreme Court approves impeachment of President Molina Yesterday in Guatemala, the Supreme Court approved the attorney general's request to impeach President Otto Pérez Molina.</td>\n",
       "      <td>31</td>\n",
       "      <td>39</td>\n",
       "      <td>approves</td>\n",
       "      <td>10</td>\n",
       "      <td>10</td>\n",
       "      <td>0</td>\n",
       "      <td>1</td>\n",
       "      <td>1</td>\n",
       "      <td>0.05</td>\n",
       "    </tr>\n",
       "    <tr>\n",
       "      <th>2</th>\n",
       "      <td>3QREJ3J433YH30CYS49AQ6MZ3G0LKZ</td>\n",
       "      <td>#37-1 Guatemalan Supreme Court approves impeachment of President Molina Yesterday in Guatemala, the Supreme Court approved the attorney general's request to impeach President Otto Pérez Molina.</td>\n",
       "      <td>17</td>\n",
       "      <td>24</td>\n",
       "      <td>Supreme</td>\n",
       "      <td>10</td>\n",
       "      <td>10</td>\n",
       "      <td>0</td>\n",
       "      <td>0</td>\n",
       "      <td>0</td>\n",
       "      <td>0.00</td>\n",
       "    </tr>\n",
       "    <tr>\n",
       "      <th>3</th>\n",
       "      <td>3QREJ3J433YH30CYS49AQ6MZ3G0LKZ</td>\n",
       "      <td>#37-1 Guatemalan Supreme Court approves impeachment of President Molina Yesterday in Guatemala, the Supreme Court approved the attorney general's request to impeach President Otto Pérez Molina.</td>\n",
       "      <td>25</td>\n",
       "      <td>30</td>\n",
       "      <td>Court</td>\n",
       "      <td>10</td>\n",
       "      <td>10</td>\n",
       "      <td>0</td>\n",
       "      <td>0</td>\n",
       "      <td>0</td>\n",
       "      <td>0.00</td>\n",
       "    </tr>\n",
       "    <tr>\n",
       "      <th>4</th>\n",
       "      <td>3QREJ3J433YH30CYS49AQ6MZ3G0LKZ</td>\n",
       "      <td>#37-1 Guatemalan Supreme Court approves impeachment of President Molina Yesterday in Guatemala, the Supreme Court approved the attorney general's request to impeach President Otto Pérez Molina.</td>\n",
       "      <td>31</td>\n",
       "      <td>51</td>\n",
       "      <td>approves impeachment</td>\n",
       "      <td>10</td>\n",
       "      <td>10</td>\n",
       "      <td>1</td>\n",
       "      <td>0</td>\n",
       "      <td>1</td>\n",
       "      <td>0.05</td>\n",
       "    </tr>\n",
       "    <tr>\n",
       "      <th>...</th>\n",
       "      <td>...</td>\n",
       "      <td>...</td>\n",
       "      <td>...</td>\n",
       "      <td>...</td>\n",
       "      <td>...</td>\n",
       "      <td>...</td>\n",
       "      <td>...</td>\n",
       "      <td>...</td>\n",
       "      <td>...</td>\n",
       "      <td>...</td>\n",
       "      <td>...</td>\n",
       "    </tr>\n",
       "    <tr>\n",
       "      <th>7741</th>\n",
       "      <td>344M16OZKIG450N98VEM53DJOE4ENA</td>\n",
       "      <td>#36-6 At 9 P.M. EST, INDYCAR released a statement, announcing that Wilson had suffered a severe head injury, was in critical condition and had fallen into a coma.</td>\n",
       "      <td>116</td>\n",
       "      <td>134</td>\n",
       "      <td>critical condition</td>\n",
       "      <td>10</td>\n",
       "      <td>10</td>\n",
       "      <td>0</td>\n",
       "      <td>0</td>\n",
       "      <td>0</td>\n",
       "      <td>0.00</td>\n",
       "    </tr>\n",
       "    <tr>\n",
       "      <th>7742</th>\n",
       "      <td>344M16OZKIG450N98VEM53DJOE4ENA</td>\n",
       "      <td>#36-6 At 9 P.M. EST, INDYCAR released a statement, announcing that Wilson had suffered a severe head injury, was in critical condition and had fallen into a coma.</td>\n",
       "      <td>125</td>\n",
       "      <td>134</td>\n",
       "      <td>condition</td>\n",
       "      <td>10</td>\n",
       "      <td>10</td>\n",
       "      <td>0</td>\n",
       "      <td>0</td>\n",
       "      <td>0</td>\n",
       "      <td>0.00</td>\n",
       "    </tr>\n",
       "    <tr>\n",
       "      <th>7743</th>\n",
       "      <td>344M16OZKIG450N98VEM53DJOE4ENA</td>\n",
       "      <td>#36-6 At 9 P.M. EST, INDYCAR released a statement, announcing that Wilson had suffered a severe head injury, was in critical condition and had fallen into a coma.</td>\n",
       "      <td>139</td>\n",
       "      <td>154</td>\n",
       "      <td>had fallen into</td>\n",
       "      <td>10</td>\n",
       "      <td>10</td>\n",
       "      <td>0</td>\n",
       "      <td>1</td>\n",
       "      <td>1</td>\n",
       "      <td>0.05</td>\n",
       "    </tr>\n",
       "    <tr>\n",
       "      <th>7744</th>\n",
       "      <td>344M16OZKIG450N98VEM53DJOE4ENA</td>\n",
       "      <td>#36-6 At 9 P.M. EST, INDYCAR released a statement, announcing that Wilson had suffered a severe head injury, was in critical condition and had fallen into a coma.</td>\n",
       "      <td>157</td>\n",
       "      <td>161</td>\n",
       "      <td>coma</td>\n",
       "      <td>10</td>\n",
       "      <td>10</td>\n",
       "      <td>2</td>\n",
       "      <td>3</td>\n",
       "      <td>1</td>\n",
       "      <td>0.25</td>\n",
       "    </tr>\n",
       "    <tr>\n",
       "      <th>7745</th>\n",
       "      <td>344M16OZKIG450N98VEM53DJOE4ENA</td>\n",
       "      <td>#36-6 At 9 P.M. EST, INDYCAR released a statement, announcing that Wilson had suffered a severe head injury, was in critical condition and had fallen into a coma.</td>\n",
       "      <td>143</td>\n",
       "      <td>149</td>\n",
       "      <td>fallen</td>\n",
       "      <td>10</td>\n",
       "      <td>10</td>\n",
       "      <td>0</td>\n",
       "      <td>0</td>\n",
       "      <td>0</td>\n",
       "      <td>0.00</td>\n",
       "    </tr>\n",
       "  </tbody>\n",
       "</table>\n",
       "<p>7746 rows × 11 columns</p>\n",
       "</div>"
      ],
      "text/plain": [
       "                                   1  \\\n",
       "0     3QREJ3J433YH30CYS49AQ6MZ3G0LKZ   \n",
       "1     3QREJ3J433YH30CYS49AQ6MZ3G0LKZ   \n",
       "2     3QREJ3J433YH30CYS49AQ6MZ3G0LKZ   \n",
       "3     3QREJ3J433YH30CYS49AQ6MZ3G0LKZ   \n",
       "4     3QREJ3J433YH30CYS49AQ6MZ3G0LKZ   \n",
       "...                              ...   \n",
       "7741  344M16OZKIG450N98VEM53DJOE4ENA   \n",
       "7742  344M16OZKIG450N98VEM53DJOE4ENA   \n",
       "7743  344M16OZKIG450N98VEM53DJOE4ENA   \n",
       "7744  344M16OZKIG450N98VEM53DJOE4ENA   \n",
       "7745  344M16OZKIG450N98VEM53DJOE4ENA   \n",
       "\n",
       "                                                                                                                                                                                                      2  \\\n",
       "0     #37-1 Guatemalan Supreme Court approves impeachment of President Molina Yesterday in Guatemala, the Supreme Court approved the attorney general's request to impeach President Otto Pérez Molina.   \n",
       "1     #37-1 Guatemalan Supreme Court approves impeachment of President Molina Yesterday in Guatemala, the Supreme Court approved the attorney general's request to impeach President Otto Pérez Molina.   \n",
       "2     #37-1 Guatemalan Supreme Court approves impeachment of President Molina Yesterday in Guatemala, the Supreme Court approved the attorney general's request to impeach President Otto Pérez Molina.   \n",
       "3     #37-1 Guatemalan Supreme Court approves impeachment of President Molina Yesterday in Guatemala, the Supreme Court approved the attorney general's request to impeach President Otto Pérez Molina.   \n",
       "4     #37-1 Guatemalan Supreme Court approves impeachment of President Molina Yesterday in Guatemala, the Supreme Court approved the attorney general's request to impeach President Otto Pérez Molina.   \n",
       "...                                                                                                                                                                                                 ...   \n",
       "7741                                 #36-6 At 9 P.M. EST, INDYCAR released a statement, announcing that Wilson had suffered a severe head injury, was in critical condition and had fallen into a coma.   \n",
       "7742                                 #36-6 At 9 P.M. EST, INDYCAR released a statement, announcing that Wilson had suffered a severe head injury, was in critical condition and had fallen into a coma.   \n",
       "7743                                 #36-6 At 9 P.M. EST, INDYCAR released a statement, announcing that Wilson had suffered a severe head injury, was in critical condition and had fallen into a coma.   \n",
       "7744                                 #36-6 At 9 P.M. EST, INDYCAR released a statement, announcing that Wilson had suffered a severe head injury, was in critical condition and had fallen into a coma.   \n",
       "7745                                 #36-6 At 9 P.M. EST, INDYCAR released a statement, announcing that Wilson had suffered a severe head injury, was in critical condition and had fallen into a coma.   \n",
       "\n",
       "        3    4                     5   6   7  8  9  10    11  \n",
       "0       6   16            Guatemalan  10  10  1  0   1  0.05  \n",
       "1      31   39              approves  10  10  0  1   1  0.05  \n",
       "2      17   24               Supreme  10  10  0  0   0  0.00  \n",
       "3      25   30                 Court  10  10  0  0   0  0.00  \n",
       "4      31   51  approves impeachment  10  10  1  0   1  0.05  \n",
       "...   ...  ...                   ...  ..  .. .. ..  ..   ...  \n",
       "7741  116  134    critical condition  10  10  0  0   0  0.00  \n",
       "7742  125  134             condition  10  10  0  0   0  0.00  \n",
       "7743  139  154       had fallen into  10  10  0  1   1  0.05  \n",
       "7744  157  161                  coma  10  10  2  3   1  0.25  \n",
       "7745  143  149                fallen  10  10  0  0   0  0.00  \n",
       "\n",
       "[7746 rows x 11 columns]"
      ]
     },
     "execution_count": 121,
     "metadata": {},
     "output_type": "execute_result"
    }
   ],
   "source": [
    "df"
   ]
  },
  {
   "cell_type": "code",
   "execution_count": 122,
   "metadata": {
    "scrolled": true
   },
   "outputs": [],
   "source": [
    "new_df = df.iloc[:,[4,9,10]]"
   ]
  },
  {
   "cell_type": "code",
   "execution_count": 115,
   "metadata": {},
   "outputs": [
    {
     "data": {
      "text/html": [
       "<div>\n",
       "<style scoped>\n",
       "    .dataframe tbody tr th:only-of-type {\n",
       "        vertical-align: middle;\n",
       "    }\n",
       "\n",
       "    .dataframe tbody tr th {\n",
       "        vertical-align: top;\n",
       "    }\n",
       "\n",
       "    .dataframe thead th {\n",
       "        text-align: right;\n",
       "    }\n",
       "</style>\n",
       "<table border=\"1\" class=\"dataframe\">\n",
       "  <thead>\n",
       "    <tr style=\"text-align: right;\">\n",
       "      <th></th>\n",
       "      <th>5</th>\n",
       "      <th>10</th>\n",
       "      <th>11</th>\n",
       "    </tr>\n",
       "  </thead>\n",
       "  <tbody>\n",
       "    <tr>\n",
       "      <th>0</th>\n",
       "      <td>Guatemalan</td>\n",
       "      <td>1</td>\n",
       "      <td>0.05</td>\n",
       "    </tr>\n",
       "    <tr>\n",
       "      <th>1</th>\n",
       "      <td>approves</td>\n",
       "      <td>1</td>\n",
       "      <td>0.05</td>\n",
       "    </tr>\n",
       "    <tr>\n",
       "      <th>2</th>\n",
       "      <td>Supreme</td>\n",
       "      <td>0</td>\n",
       "      <td>0.00</td>\n",
       "    </tr>\n",
       "    <tr>\n",
       "      <th>3</th>\n",
       "      <td>Court</td>\n",
       "      <td>0</td>\n",
       "      <td>0.00</td>\n",
       "    </tr>\n",
       "    <tr>\n",
       "      <th>4</th>\n",
       "      <td>approves impeachment</td>\n",
       "      <td>1</td>\n",
       "      <td>0.05</td>\n",
       "    </tr>\n",
       "    <tr>\n",
       "      <th>...</th>\n",
       "      <td>...</td>\n",
       "      <td>...</td>\n",
       "      <td>...</td>\n",
       "    </tr>\n",
       "    <tr>\n",
       "      <th>7741</th>\n",
       "      <td>critical condition</td>\n",
       "      <td>0</td>\n",
       "      <td>0.00</td>\n",
       "    </tr>\n",
       "    <tr>\n",
       "      <th>7742</th>\n",
       "      <td>condition</td>\n",
       "      <td>0</td>\n",
       "      <td>0.00</td>\n",
       "    </tr>\n",
       "    <tr>\n",
       "      <th>7743</th>\n",
       "      <td>had fallen into</td>\n",
       "      <td>1</td>\n",
       "      <td>0.05</td>\n",
       "    </tr>\n",
       "    <tr>\n",
       "      <th>7744</th>\n",
       "      <td>coma</td>\n",
       "      <td>1</td>\n",
       "      <td>0.25</td>\n",
       "    </tr>\n",
       "    <tr>\n",
       "      <th>7745</th>\n",
       "      <td>fallen</td>\n",
       "      <td>0</td>\n",
       "      <td>0.00</td>\n",
       "    </tr>\n",
       "  </tbody>\n",
       "</table>\n",
       "<p>7746 rows × 3 columns</p>\n",
       "</div>"
      ],
      "text/plain": [
       "                         5  10    11\n",
       "0               Guatemalan   1  0.05\n",
       "1                 approves   1  0.05\n",
       "2                  Supreme   0  0.00\n",
       "3                    Court   0  0.00\n",
       "4     approves impeachment   1  0.05\n",
       "...                    ...  ..   ...\n",
       "7741    critical condition   0  0.00\n",
       "7742             condition   0  0.00\n",
       "7743       had fallen into   1  0.05\n",
       "7744                  coma   1  0.25\n",
       "7745                fallen   0  0.00\n",
       "\n",
       "[7746 rows x 3 columns]"
      ]
     },
     "execution_count": 115,
     "metadata": {},
     "output_type": "execute_result"
    }
   ],
   "source": [
    "new_df"
   ]
  },
  {
   "cell_type": "code",
   "execution_count": 125,
   "metadata": {},
   "outputs": [
    {
     "data": {
      "text/plain": [
       "0    4530\n",
       "1    3216\n",
       "Name: 10, dtype: int64"
      ]
     },
     "execution_count": 125,
     "metadata": {},
     "output_type": "execute_result"
    }
   ],
   "source": [
    "new_df['9'].value_counts()"
   ]
  },
  {
   "cell_type": "code",
   "execution_count": 127,
   "metadata": {},
   "outputs": [
    {
     "data": {
      "text/plain": [
       "count    7746.000000\n",
       "mean        0.083947\n",
       "std         0.169679\n",
       "min         0.000000\n",
       "25%         0.000000\n",
       "50%         0.000000\n",
       "75%         0.100000\n",
       "max         1.000000\n",
       "Name: 11, dtype: float64"
      ]
     },
     "execution_count": 127,
     "metadata": {},
     "output_type": "execute_result"
    }
   ],
   "source": [
    "df['11'].describe() #probabilistic label's characteristics"
   ]
  },
  {
   "cell_type": "code",
   "execution_count": null,
   "metadata": {},
   "outputs": [],
   "source": []
  },
  {
   "cell_type": "code",
   "execution_count": null,
   "metadata": {
    "pycharm": {
     "name": "#%%\n"
    }
   },
   "outputs": [],
   "source": []
  },
  {
   "cell_type": "code",
   "execution_count": null,
   "metadata": {},
   "outputs": [],
   "source": []
  },
  {
   "cell_type": "code",
   "execution_count": null,
   "metadata": {},
   "outputs": [],
   "source": []
  }
 ],
 "metadata": {
  "kernelspec": {
   "display_name": "Python 3",
   "language": "python",
   "name": "python3"
  },
  "language_info": {
   "codemirror_mode": {
    "name": "ipython",
    "version": 3
   },
   "file_extension": ".py",
   "mimetype": "text/x-python",
   "name": "python",
   "nbconvert_exporter": "python",
   "pygments_lexer": "ipython3",
   "version": "3.8.8"
  }
 },
 "nbformat": 4,
 "nbformat_minor": 4
}
